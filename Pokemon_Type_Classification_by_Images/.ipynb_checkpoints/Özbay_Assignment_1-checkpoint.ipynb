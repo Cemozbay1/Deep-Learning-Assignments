{
 "cells": [
  {
   "cell_type": "markdown",
   "id": "18f79f2e",
   "metadata": {},
   "source": [
    "### Import Modules"
   ]
  },
  {
   "cell_type": "code",
   "execution_count": 1,
   "id": "da296b44",
   "metadata": {},
   "outputs": [],
   "source": [
    "import numpy as np"
   ]
  },
  {
   "cell_type": "code",
   "execution_count": 2,
   "id": "372e1d5e",
   "metadata": {},
   "outputs": [
    {
     "ename": "ModuleNotFoundError",
     "evalue": "No module named 'google.colab'",
     "output_type": "error",
     "traceback": [
      "\u001b[0;31m---------------------------------------------------------------------------\u001b[0m",
      "\u001b[0;31mModuleNotFoundError\u001b[0m                       Traceback (most recent call last)",
      "\u001b[0;32m/var/folders/7k/v7p94gsd69j49_qpn3c1vz080000gn/T/ipykernel_3101/1115581909.py\u001b[0m in \u001b[0;36m<module>\u001b[0;34m\u001b[0m\n\u001b[1;32m      5\u001b[0m \u001b[0;34m\u001b[0m\u001b[0m\n\u001b[1;32m      6\u001b[0m \u001b[0;31m# Module for Google Drive\u001b[0m\u001b[0;34m\u001b[0m\u001b[0;34m\u001b[0m\u001b[0;34m\u001b[0m\u001b[0m\n\u001b[0;32m----> 7\u001b[0;31m \u001b[0;32mfrom\u001b[0m \u001b[0mgoogle\u001b[0m\u001b[0;34m.\u001b[0m\u001b[0mcolab\u001b[0m \u001b[0;32mimport\u001b[0m \u001b[0mdrive\u001b[0m\u001b[0;34m\u001b[0m\u001b[0;34m\u001b[0m\u001b[0m\n\u001b[0m\u001b[1;32m      8\u001b[0m \u001b[0;31m# Module for Importing Images\u001b[0m\u001b[0;34m\u001b[0m\u001b[0;34m\u001b[0m\u001b[0;34m\u001b[0m\u001b[0m\n\u001b[1;32m      9\u001b[0m \u001b[0;32mfrom\u001b[0m \u001b[0mPIL\u001b[0m \u001b[0;32mimport\u001b[0m \u001b[0mImage\u001b[0m\u001b[0;34m\u001b[0m\u001b[0;34m\u001b[0m\u001b[0m\n",
      "\u001b[0;31mModuleNotFoundError\u001b[0m: No module named 'google.colab'"
     ]
    }
   ],
   "source": [
    "import os\n",
    "import numpy as np\n",
    "from tqdm.notebook import tqdm\n",
    "import matplotlib.pyplot as plt\n",
    "\n",
    "# Module for Google Drive\n",
    "from google.colab import drive\n",
    "# Module for Importing Images\n",
    "from PIL import Image "
   ]
  },
  {
   "cell_type": "markdown",
   "id": "ed351faf",
   "metadata": {},
   "source": [
    "### 2. Load your Google Drive to your Colab session"
   ]
  },
  {
   "cell_type": "code",
   "execution_count": 1,
   "id": "a9d617f9",
   "metadata": {},
   "outputs": [
    {
     "ename": "NameError",
     "evalue": "name 'drive' is not defined",
     "output_type": "error",
     "traceback": [
      "\u001b[0;31m---------------------------------------------------------------------------\u001b[0m",
      "\u001b[0;31mNameError\u001b[0m                                 Traceback (most recent call last)",
      "\u001b[0;32m<ipython-input-1-3b8a479202a4>\u001b[0m in \u001b[0;36m<module>\u001b[0;34m\u001b[0m\n\u001b[0;32m----> 1\u001b[0;31m \u001b[0mdrive\u001b[0m\u001b[0;34m.\u001b[0m\u001b[0mmount\u001b[0m\u001b[0;34m(\u001b[0m\u001b[0;34m'/content/drive'\u001b[0m\u001b[0;34m)\u001b[0m\u001b[0;34m\u001b[0m\u001b[0;34m\u001b[0m\u001b[0m\n\u001b[0m",
      "\u001b[0;31mNameError\u001b[0m: name 'drive' is not defined"
     ]
    }
   ],
   "source": [
    "drive.mount('/content/drive')"
   ]
  },
  {
   "cell_type": "markdown",
   "id": "350d721d",
   "metadata": {},
   "source": [
    "### 3. Define the path of your Dataset to your notebook code"
   ]
  },
  {
   "cell_type": "code",
   "execution_count": null,
   "id": "afe0c750",
   "metadata": {},
   "outputs": [],
   "source": [
    "train_path = './drive/MyDrive/Dataset/train'\n",
    "test_path = './drive/MyDrive/Dataset/test'\n",
    "model_dir = './drive/MyDrive/Codes/models'  "
   ]
  },
  {
   "cell_type": "markdown",
   "id": "1b36115e",
   "metadata": {},
   "source": [
    "### 4. Give the “train_path” or “test_path” as an input argument when creating an instance of PokemonDataset."
   ]
  },
  {
   "cell_type": "code",
   "execution_count": null,
   "id": "21ffe0f6",
   "metadata": {},
   "outputs": [],
   "source": [
    "class PokemonDataset(Dataset):\n",
    "    def __init__(self, data_path, is_training):\n",
    "        self.data_path = data_path\n",
    "        self.train_path = os.path.join(data_path, 'train')\n",
    "        self.val_path = os.path.join(data_path, 'validate')\n",
    "        self.is_training = is_training\n",
    "        if self.is_training:\n",
    "            self.target_path = self.train_path\n",
    "        else:\n",
    "            self.target_path = self.val_path\n",
    "\n",
    "        self.classes = sorted(os.listdir(self.target_path))\n",
    "        self.img_path_label = list()\n",
    "        for c in self.classes:\n",
    "            img_list = os.listdir(os.path.join(self.target_path, c))\n",
    "            for fp in img_list:\n",
    "                full_fp = os.path.join(self.target_path, c, fp)\n",
    "                self.img_path_label.append((full_fp, c, self.classes.index(c)))"
   ]
  }
 ],
 "metadata": {
  "kernelspec": {
   "display_name": "Python 3 (ipykernel)",
   "language": "python",
   "name": "python3"
  },
  "language_info": {
   "codemirror_mode": {
    "name": "ipython",
    "version": 3
   },
   "file_extension": ".py",
   "mimetype": "text/x-python",
   "name": "python",
   "nbconvert_exporter": "python",
   "pygments_lexer": "ipython3",
   "version": "3.8.8"
  }
 },
 "nbformat": 4,
 "nbformat_minor": 5
}
